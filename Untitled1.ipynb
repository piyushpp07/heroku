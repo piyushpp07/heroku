{
 "cells": [
  {
   "cell_type": "code",
   "execution_count": 1,
   "id": "8bb46a95",
   "metadata": {},
   "outputs": [],
   "source": [
    "import cv2"
   ]
  },
  {
   "cell_type": "code",
   "execution_count": 4,
   "id": "32944878",
   "metadata": {},
   "outputs": [],
   "source": [
    "img = cv2.imread('pic.jpg')"
   ]
  },
  {
   "cell_type": "code",
   "execution_count": 5,
   "id": "b38f4808",
   "metadata": {},
   "outputs": [],
   "source": [
    "cv2.imshow('webcam',img)\n",
    "cv2.waitKey(0)\n",
    "cv2.destroyAllWindows()"
   ]
  },
  {
   "cell_type": "code",
   "execution_count": 6,
   "id": "279539ed",
   "metadata": {},
   "outputs": [],
   "source": [
    "reImg = cv2.resize(img,(400,400))"
   ]
  },
  {
   "cell_type": "code",
   "execution_count": 7,
   "id": "bccfcd84",
   "metadata": {},
   "outputs": [],
   "source": [
    "cv2.imshow('webcam',reImg)\n",
    "cv2.waitKey(0)\n",
    "cv2.destroyAllWindows()"
   ]
  },
  {
   "cell_type": "code",
   "execution_count": 9,
   "id": "93b73c9e",
   "metadata": {},
   "outputs": [],
   "source": [
    "grevImg = cv2.cvtColor(reImg,cv2.COLOR_BGR2GRAY)\n",
    "cv2.imshow('webcam',grevImg)\n",
    "cv2.waitKey(0)\n",
    "cv2.destroyAllWindows()"
   ]
  },
  {
   "cell_type": "code",
   "execution_count": 19,
   "id": "2e4a1ea5",
   "metadata": {},
   "outputs": [],
   "source": [
    "canny_img = cv2.Canny(grevImg,120,150)"
   ]
  },
  {
   "cell_type": "code",
   "execution_count": 20,
   "id": "a2547da0",
   "metadata": {},
   "outputs": [],
   "source": [
    "cv2.imshow('webcam',canny_img)\n",
    "cv2.waitKey(0)\n",
    "cv2.destroyAllWindows()"
   ]
  },
  {
   "cell_type": "code",
   "execution_count": 24,
   "id": "0c56eb5e",
   "metadata": {},
   "outputs": [],
   "source": [
    "import numpy as np\n",
    "kernel = np.ones((1,3),'uint8')\n",
    "erode= cv2.erode(canny_img,kernel,iterations=1)\n",
    "cv2.imshow('webcam',erode)\n",
    "cv2.waitKey(0)\n",
    "cv2.destroyAllWindows()"
   ]
  },
  {
   "cell_type": "code",
   "execution_count": 25,
   "id": "7040f2ad",
   "metadata": {},
   "outputs": [],
   "source": [
    "kernel = np.ones((2,2),'uint8')\n",
    "dilate= cv2.dilate(erode,kernel,iterations=1)\n",
    "cv2.imshow('webcam',dilate)\n",
    "cv2.waitKey(0)\n",
    "cv2.destroyAllWindows()"
   ]
  },
  {
   "cell_type": "code",
   "execution_count": 28,
   "id": "893b328b",
   "metadata": {},
   "outputs": [],
   "source": [
    "blank = np.zeros((500,500,3),'uint8')"
   ]
  },
  {
   "cell_type": "code",
   "execution_count": 29,
   "id": "caf3132d",
   "metadata": {},
   "outputs": [
    {
     "data": {
      "text/plain": [
       "<matplotlib.image.AxesImage at 0x2b4cf0f2fc8>"
      ]
     },
     "execution_count": 29,
     "metadata": {},
     "output_type": "execute_result"
    },
    {
     "data": {
      "image/png": "[encoded data removed]",
      "text/plain": [
       "<Figure size 432x288 with 1 Axes>"
      ]
     },
     "metadata": {
      "needs_background": "light"
     },
     "output_type": "display_data"
    }
   ],
   "source": [
    "from matplotlib import pyplot as plt\n",
    "plt.imshow(blank)"
   ]
  },
  {
   "cell_type": "code",
   "execution_count": null,
   "id": "9bb2c321",
   "metadata": {},
   "outputs": [],
   "source": []
  }
 ],
 "metadata": {
  "kernelspec": {
   "display_name": "Python 3 (ipykernel)",
   "language": "python",
   "name": "python3"
  },
  "language_info": {
   "codemirror_mode": {
    "name": "ipython",
    "version": 3
   },
   "file_extension": ".py",
   "mimetype": "text/x-python",
   "name": "python",
   "nbconvert_exporter": "python",
   "pygments_lexer": "ipython3",
   "version": "3.7.9"
  }
 },
 "nbformat": 4,
 "nbformat_minor": 5
}
